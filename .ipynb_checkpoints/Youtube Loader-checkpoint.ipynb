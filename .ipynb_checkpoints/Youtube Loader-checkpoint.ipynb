{
 "cells": [
  {
   "cell_type": "code",
   "execution_count": 1,
   "id": "83215324",
   "metadata": {},
   "outputs": [],
   "source": [
    "OPENAI_API_KEY = \"YOUR_API_KEY\""
   ]
  },
  {
   "cell_type": "code",
   "execution_count": 3,
   "id": "6f87a10d",
   "metadata": {},
   "outputs": [],
   "source": [
    "from langchain.document_loaders import YoutubeLoader\n",
    "from langchain.llms import OpenAI\n",
    "from langchain.chains.summarize import load_summarize_chain"
   ]
  },
  {
   "cell_type": "markdown",
   "id": "fa4c3e78",
   "metadata": {},
   "source": [
    "### For simple videos"
   ]
  },
  {
   "cell_type": "code",
   "execution_count": 17,
   "id": "05fbbd88",
   "metadata": {},
   "outputs": [],
   "source": [
    "loader = YoutubeLoader.from_youtube_url(\"https://www.youtube.com/watch?v=1KQc6zHOmtU\", add_video_info=True)"
   ]
  },
  {
   "cell_type": "code",
   "execution_count": 18,
   "id": "aa36a184",
   "metadata": {},
   "outputs": [],
   "source": [
    "result = loader.load()"
   ]
  },
  {
   "cell_type": "code",
   "execution_count": 10,
   "id": "afd5dde8",
   "metadata": {},
   "outputs": [
    {
     "name": "stdout",
     "output_type": "stream",
     "text": [
      "<class 'list'>\n",
      "Found video from Two Minute Papers that is 374 seconds long\n",
      "\n",
      "[Document(page_content=\"Dear Fellow Scholars, this is Two Minute\\xa0\\nPapers with Dr. Károly Zsolnai-Fehér. The works that you are going to see\\xa0\\ntoday gave me shivers. You see, earlier,\\xa0\\xa0 we talked about AlphaFold, DeepMind’s\\xa0\\namazing paper on protein folding. And\\xa0\\xa0 I promised to get back to you to showas\\xa0\\nmore and more research labs how it is\\xa0\\xa0 transforming the world around us today. This\\xa0\\nis not your usual Two Minute Papers video,\\xa0\\xa0 so hold on to your papers Fellow Scholars,\\xa0\\nthis is going to be an incredible ride. But wait, I hear you asking the question, what\\xa0\\nis protein folding? A protein is a string of\\xa0\\xa0 amino acids, these are the building blocks of\\xa0\\nlife. This is what goes in, which in reality,\\xa0\\xa0 has a 3D structure. And that is protein\\xa0\\nfolding. Letters go in, a 3D object comes out. So, how hard is it? Well, extremely hard. It\\xa0\\nis significantly harder than chess and Go,\\xa0\\xa0 both of which are really challenging games to\\xa0\\nmaster. But they have nothing on protein folding. Alright, first project. Plastics are very\\xa0\\nuseful. We use them for single-use drinks,\\xa0\\xa0 bottles, clothing and carpets, and more. We all\\xa0\\nknow that, but the problem with plastics start\\xa0\\xa0 the moment we are done with them. You see, 400\\xa0\\nmillion tons of it is produced each year around\\xa0\\xa0 the world, and unfortunately, you guessed\\xa0\\nit right, most of them end up in landfills. And this project is about evolving enzymes. What\\xa0\\nkind of enzymes? Well, hold on to your papers,\\xa0\\xa0 because these are enzymes that are made\\xa0\\nto be able to digest these plastics. Yes,\\xa0\\xa0 that’s right. It is breaking these plastics down.\\xa0\\nBut, it gets better. It even helps recycling them,\\xa0\\xa0 so they can be used over and over\\xa0\\nagain, infinitely. Like glass\\xa0\\xa0 or tin cans. We don’t need to produce more\\xa0\\nof these, which requires fossil fuels,\\xa0\\xa0 and we can clean up these landfills with it.\\xa0\\nThis sounds like a science fiction movie,\\xa0\\xa0 and it came right out of a paper that was\\xa0\\npublished in 2021. I am truly out of words. Now, this research group notes that\\xa0\\nexperiments like these were underway,\\xa0\\xa0 but the protein structure prediction steps took\\xa0\\nyears and years. An entire PhD thesis took on\\xa0\\xa0 solving a single protein structure. And now, with\\xa0\\nAlphaFold, they only take a few minutes. And they\\xa0\\xa0 are super accurate. Hence, biologists can run\\xa0\\nnot one experiment in a few years, but they can\\xa0\\xa0 run hundreds, or even thousands of experiments at\\xa0\\nthe same time, almost in real time now. This is\\xa0\\xa0 an AI collaborating with humans to solve important\\xa0\\nproblems. They call it a complete paradigm shift. But all this is just the start.\\xa0\\nOther AlphaFold-based projects\\xa0\\xa0 are also underway. For instance,\\xa0\\nthis research group was wondering\\xa0\\xa0 that if it can study living proteins,\\xa0\\ncan it maybe study extinct ones too? If that would be true, that would open up\\xa0\\namazing new techniques is paleoproteomics,\\xa0\\xa0 the study of ancient proteins. What\\xa0\\ndoes this mean? Well, for instance,\\xa0\\xa0 it helped this research group learn\\xa0\\nhow an ancient bird went extinct. The problem was that they couldn’t get usable\\xa0\\nDNA out of these ancient eggs as these structures\\xa0\\xa0 break down very quickly. Studying the proteins\\xa0\\nof the eggshell instead would be so much more\\xa0\\xa0 convenient because they live on for 10 times\\xa0\\nlonger, and they also need much less of them.\\xa0\\xa0 And, are you thinking what I am thinking? Oh\\xa0\\nyes, that is exactly what AlphaFold is for. So,\\xa0\\xa0 they have done exactly that and were able to\\xa0\\ncompare those proteins to that of modern birds,\\xa0\\xa0 and found out which one of the current\\xa0\\nbirds are the most similar to it. They\\xa0\\xa0 found out that this was a large, flightless bird,\\xa0\\xa0 similar to an ostrich that went extinct because\\xa0\\nhumans were looking to eat their eggs. AlphaFold\\xa0\\xa0 helped solve this huge mystery, and no doubt\\xa0\\nit will help solve many more in the future. I love how in this project, AlphaFold\\xa0\\nis like a lens that helps us look back\\xa0\\xa0 in time even further and even more accurately.\\xa0\\nThis is an incredible scientific achievement. It is also currently being used to study and\\xa0\\nperhaps treat diseases that ail millions and\\xa0\\xa0 millions of people around the world.\\xa0\\nOnce again, all this from a paper that\\xa0\\xa0 was published in 2021. This work is perhaps\\xa0\\none of the most important papers of the last\\xa0\\xa0 decade and is going to change the world for the\\xa0\\nbetter as we know it. What a time to be alive! So, what do you think? What else will AlphaFold\\xa0\\nbe useful for? Let me know in the comments below! Thanks for watching and for your generous\\xa0\\nsupport, and I'll see you next time!\", metadata={'source': '1KQc6zHOmtU', 'title': 'DeepMind’s AlphaFold AI: Doing Years Of Research In Minutes!', 'description': None, 'view_count': 189892, 'thumbnail_url': 'https://i.ytimg.com/vi/1KQc6zHOmtU/hq720.jpg', 'publish_date': datetime.datetime(2023, 4, 3, 0, 0), 'length': 374, 'author': 'Two Minute Papers'})]\n"
     ]
    }
   ],
   "source": [
    "print(type(result))\n",
    "print(f\"Found video from {result[0].metadata['author']} that is {result[0].metadata['length']} seconds long\")\n",
    "print(\"\")\n",
    "print(result)"
   ]
  },
  {
   "cell_type": "code",
   "execution_count": 11,
   "id": "f99cff52",
   "metadata": {},
   "outputs": [],
   "source": [
    "llm = OpenAI(temperature=0.1, openai_api_key=OPENAI_API_KEY)"
   ]
  },
  {
   "cell_type": "code",
   "execution_count": 13,
   "id": "80bbaf8f",
   "metadata": {},
   "outputs": [
    {
     "data": {
      "text/plain": [
       "' AlphaFold, a paper published in 2021, is revolutionizing the world of protein folding. It is being used to break down plastics, study extinct proteins, and even treat diseases. AlphaFold is a lens that helps us look back in time more accurately and is one of the most important papers of the last decade.'"
      ]
     },
     "execution_count": 13,
     "metadata": {},
     "output_type": "execute_result"
    }
   ],
   "source": [
    "chain = load_summarize_chain(llm, chain_type=\"stuff\", verbose=False)\n",
    "chain.run(result)"
   ]
  },
  {
   "cell_type": "markdown",
   "id": "0403f9e0",
   "metadata": {},
   "source": [
    "### For long videos"
   ]
  },
  {
   "cell_type": "code",
   "execution_count": 19,
   "id": "459b79b5",
   "metadata": {},
   "outputs": [],
   "source": [
    "from langchain.text_splitter import RecursiveCharacterTextSplitter"
   ]
  },
  {
   "cell_type": "code",
   "execution_count": 20,
   "id": "acc34d9b",
   "metadata": {},
   "outputs": [],
   "source": [
    "loader2 = YoutubeLoader.from_youtube_url(\"https://www.youtube.com/watch?v=SGSOCuByo24\", add_video_info=True)"
   ]
  },
  {
   "cell_type": "code",
   "execution_count": 21,
   "id": "1a725fdb",
   "metadata": {},
   "outputs": [],
   "source": [
    "result2 = loader2.load()"
   ]
  },
  {
   "cell_type": "code",
   "execution_count": 22,
   "id": "875855cd",
   "metadata": {},
   "outputs": [],
   "source": [
    "text_splitter = RecursiveCharacterTextSplitter(chunk_size=2000, chunk_overlap=0)"
   ]
  },
  {
   "cell_type": "code",
   "execution_count": 23,
   "id": "e5845073",
   "metadata": {},
   "outputs": [],
   "source": [
    "texts = text_splitter.split_documents(result2)"
   ]
  },
  {
   "cell_type": "code",
   "execution_count": 26,
   "id": "c5042d01",
   "metadata": {},
   "outputs": [
    {
     "data": {
      "text/plain": [
       "' Yann Laocoon, a professor at New York University and recipient of the Turing Award, discusses the concept of value misalignment in AI systems and the need for laws and regulations to be hardwired into them. He also talks about the development of deep learning and the difficulty of establishing benchmarks for new ideas. He suggests that self-supervised learning and model-free reinforcement training can be used to reduce the number of labeled training samples needed, and that deep learning will likely play a major role in autonomous driving in the future. Finally, he suggests that common sense reasoning will emerge from language interaction, watching videos, and possibly interacting in virtual or real-world environments.'"
      ]
     },
     "execution_count": 26,
     "metadata": {},
     "output_type": "execute_result"
    }
   ],
   "source": [
    "chain2 = load_summarize_chain(llm, chain_type = \"map_reduce\", verbose=False)\n",
    "chain2.run(texts)"
   ]
  },
  {
   "cell_type": "code",
   "execution_count": 25,
   "id": "80873c8c",
   "metadata": {
    "collapsed": true
   },
   "outputs": [
    {
     "name": "stdout",
     "output_type": "stream",
     "text": [
      "Collecting tiktoken\n",
      "  Downloading tiktoken-0.4.0-cp39-cp39-win_amd64.whl (635 kB)\n",
      "Requirement already satisfied: requests>=2.26.0 in c:\\programdata\\anaconda3\\envs\\deeplearning\\lib\\site-packages (from tiktoken) (2.30.0)\n",
      "Requirement already satisfied: regex>=2022.1.18 in c:\\programdata\\anaconda3\\envs\\deeplearning\\lib\\site-packages (from tiktoken) (2022.7.9)\n",
      "Requirement already satisfied: urllib3<3,>=1.21.1 in c:\\programdata\\anaconda3\\envs\\deeplearning\\lib\\site-packages (from requests>=2.26.0->tiktoken) (2.0.2)\n",
      "Requirement already satisfied: idna<4,>=2.5 in c:\\programdata\\anaconda3\\envs\\deeplearning\\lib\\site-packages (from requests>=2.26.0->tiktoken) (3.4)\n",
      "Requirement already satisfied: charset-normalizer<4,>=2 in c:\\programdata\\anaconda3\\envs\\deeplearning\\lib\\site-packages (from requests>=2.26.0->tiktoken) (3.1.0)\n",
      "Requirement already satisfied: certifi>=2017.4.17 in c:\\programdata\\anaconda3\\envs\\deeplearning\\lib\\site-packages (from requests>=2.26.0->tiktoken) (2022.12.7)\n",
      "Installing collected packages: tiktoken\n",
      "Successfully installed tiktoken-0.4.0\n"
     ]
    }
   ],
   "source": [
    "#!pip install tiktoken"
   ]
  },
  {
   "cell_type": "code",
   "execution_count": 28,
   "id": "b8d84cb9",
   "metadata": {},
   "outputs": [],
   "source": [
    "# for demonstration on how the model summarizes large texts\n",
    "\n",
    "#chain3 = load_summarize_chain(llm, chain_type = \"map_reduce\", verbose=True)\n",
    "#chain3.run(texts[:4])"
   ]
  },
  {
   "cell_type": "markdown",
   "id": "8dbf9c2f",
   "metadata": {},
   "source": [
    "### For multiple videos"
   ]
  },
  {
   "cell_type": "code",
   "execution_count": 29,
   "id": "230ea600",
   "metadata": {},
   "outputs": [],
   "source": [
    "youtube_url_list = [\"https://www.youtube.com/watch?v=L_4BPjLBF4E\", \"https://www.youtube.com/watch?v=4Bdc55j80l8\"]"
   ]
  },
  {
   "cell_type": "code",
   "execution_count": 30,
   "id": "298a2c58",
   "metadata": {},
   "outputs": [],
   "source": [
    "texts2 = []\n",
    "\n",
    "text_splitter2 = RecursiveCharacterTextSplitter(chunk_size=2000, chunk_overlap=0)\n",
    "\n",
    "for url in youtube_url_list:\n",
    "    loader3 = YoutubeLoader.from_youtube_url(url, add_video_info=True)\n",
    "    result3 = loader3.load()\n",
    "    \n",
    "    texts.extend(text_splitter2.split_documents(result3))"
   ]
  },
  {
   "cell_type": "code",
   "execution_count": 31,
   "id": "915fff2e",
   "metadata": {},
   "outputs": [
    {
     "name": "stderr",
     "output_type": "stream",
     "text": [
      "Retrying langchain.llms.openai.completion_with_retry.<locals>._completion_with_retry in 4.0 seconds as it raised APIConnectionError: Error communicating with OpenAI: ('Connection aborted.', ConnectionResetError(10054, 'An existing connection was forcibly closed by the remote host', None, 10054, None)).\n"
     ]
    },
    {
     "data": {
      "text/plain": [
       "' Yann Laocoon, a professor at New York University, discusses the concept of value misalignment in AI systems and the need for rules and limits to be hardwired into them. He also talks about supervised learning, model-based reinforcement learning, and the need for predictive models of the world. This paper also explains the use of Transformers, a type of natural language processing model, and how it can be used to generate text with a conversational chatbot example.'"
      ]
     },
     "execution_count": 31,
     "metadata": {},
     "output_type": "execute_result"
    }
   ],
   "source": [
    "chain3 = load_summarize_chain(llm, chain_type = \"map_reduce\", verbose=False)\n",
    "chain3.run(texts)"
   ]
  },
  {
   "cell_type": "code",
   "execution_count": null,
   "id": "cca63dda",
   "metadata": {},
   "outputs": [],
   "source": []
  }
 ],
 "metadata": {
  "kernelspec": {
   "display_name": "Python 3 (ipykernel)",
   "language": "python",
   "name": "python3"
  },
  "language_info": {
   "codemirror_mode": {
    "name": "ipython",
    "version": 3
   },
   "file_extension": ".py",
   "mimetype": "text/x-python",
   "name": "python",
   "nbconvert_exporter": "python",
   "pygments_lexer": "ipython3",
   "version": "3.9.7"
  }
 },
 "nbformat": 4,
 "nbformat_minor": 5
}
