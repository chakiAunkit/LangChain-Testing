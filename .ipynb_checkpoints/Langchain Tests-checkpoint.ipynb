{
 "cells": [
  {
   "cell_type": "code",
   "execution_count": 1,
   "id": "e008f0a1",
   "metadata": {},
   "outputs": [],
   "source": [
    "import os"
   ]
  },
  {
   "cell_type": "code",
   "execution_count": 2,
   "id": "b464e16d",
   "metadata": {},
   "outputs": [],
   "source": [
    "#os.environ[\"OPENAI_API_KEY\"] = \"YOUR_API_KEY\""
   ]
  },
  {
   "cell_type": "code",
   "execution_count": 3,
   "id": "e13ed07d",
   "metadata": {},
   "outputs": [],
   "source": [
    "from langchain.llms import OpenAI"
   ]
  },
  {
   "cell_type": "code",
   "execution_count": 4,
   "id": "a2774428",
   "metadata": {},
   "outputs": [],
   "source": [
    "llm = OpenAI(temperature=0.85)"
   ]
  },
  {
   "cell_type": "code",
   "execution_count": 5,
   "id": "1691c65a",
   "metadata": {},
   "outputs": [
    {
     "name": "stdout",
     "output_type": "stream",
     "text": [
      "\n",
      "\n",
      "1. Comfortably Numb \n",
      "2. Wish You Were Here \n",
      "3. Shine On You Crazy Diamond \n",
      "4. Time \n",
      "5. The Great Gig in the Sky \n",
      "6. Money \n",
      "7. Us and Them \n",
      "8. Hey You \n",
      "9. Brain Damage \n",
      "10. Another Brick in the Wall\n"
     ]
    }
   ],
   "source": [
    "text = \"What are the best pink floyd songs?\"\n",
    "print(llm(text))"
   ]
  },
  {
   "cell_type": "markdown",
   "id": "f304b46f",
   "metadata": {},
   "source": [
    "## Prompt Templates: Manage prompts for LLMs"
   ]
  },
  {
   "cell_type": "code",
   "execution_count": 6,
   "id": "2e2f7ba3",
   "metadata": {},
   "outputs": [],
   "source": [
    "from langchain.prompts import PromptTemplate"
   ]
  },
  {
   "cell_type": "code",
   "execution_count": 7,
   "id": "a6b0585b",
   "metadata": {},
   "outputs": [],
   "source": [
    "prompt = PromptTemplate(\n",
    "    input_variables=[\"food\"],\n",
    "    template = \"what are the 5 vacation destinations for someone who likes to eat {food}?\",\n",
    ")"
   ]
  },
  {
   "cell_type": "code",
   "execution_count": 8,
   "id": "77b16060",
   "metadata": {},
   "outputs": [
    {
     "name": "stdout",
     "output_type": "stream",
     "text": [
      "what are the 5 vacation destinations for someone who likes to eat indian?\n"
     ]
    }
   ],
   "source": [
    "prompt_og = prompt.format(food=\"indian\")\n",
    "print(prompt_og)"
   ]
  },
  {
   "cell_type": "code",
   "execution_count": 9,
   "id": "7ee44f54",
   "metadata": {},
   "outputs": [
    {
     "name": "stdout",
     "output_type": "stream",
     "text": [
      "\n",
      "\n",
      "1. India \n",
      "2. London, UK \n",
      "3. Melbourne, Australia \n",
      "4. Toronto, Canada \n",
      "5. Dubai, UAE\n"
     ]
    }
   ],
   "source": [
    "print(llm(prompt_og))"
   ]
  },
  {
   "cell_type": "markdown",
   "id": "3901b374",
   "metadata": {},
   "source": [
    "## Chains: Combine LLMs and prompts in multi-step workflows"
   ]
  },
  {
   "cell_type": "code",
   "execution_count": 10,
   "id": "e4800841",
   "metadata": {},
   "outputs": [],
   "source": [
    "from langchain.chains import LLMChain"
   ]
  },
  {
   "cell_type": "code",
   "execution_count": 11,
   "id": "4bd94c50",
   "metadata": {},
   "outputs": [],
   "source": [
    "llm = OpenAI(temperature=0.85)\n",
    "\n",
    "prompt = PromptTemplate(\n",
    "    input_variables=[\"food\"],\n",
    "    template = \"what are the 5 vacation destinations for someone who likes to eat {food}?\",\n",
    ")"
   ]
  },
  {
   "cell_type": "code",
   "execution_count": 12,
   "id": "e85314d9",
   "metadata": {},
   "outputs": [],
   "source": [
    "chain = LLMChain(llm=llm, prompt=prompt)"
   ]
  },
  {
   "cell_type": "code",
   "execution_count": 13,
   "id": "a9e7fdb7",
   "metadata": {},
   "outputs": [
    {
     "name": "stdout",
     "output_type": "stream",
     "text": [
      "\n",
      "\n",
      "1. Kolkata, India\n",
      "2. Dhaka, Bangladesh\n",
      "3. Sylhet, Bangladesh\n",
      "4. Sundarbans, Bangladesh\n",
      "5. Cox's Bazar, Bangladesh\n"
     ]
    }
   ],
   "source": [
    "print(chain.run(\"Bengali fish\"))"
   ]
  },
  {
   "cell_type": "code",
   "execution_count": 15,
   "id": "2e4b0c66",
   "metadata": {},
   "outputs": [],
   "source": [
    "#pip install google-search-results"
   ]
  },
  {
   "cell_type": "code",
   "execution_count": 16,
   "id": "8081cf93",
   "metadata": {},
   "outputs": [],
   "source": [
    "from langchain.agents import load_tools, initialize_agent"
   ]
  },
  {
   "cell_type": "code",
   "execution_count": 29,
   "id": "35bf43cc",
   "metadata": {},
   "outputs": [],
   "source": [
    "#llm = OpenAI(temperature=0.3)"
   ]
  },
  {
   "cell_type": "code",
   "execution_count": 19,
   "id": "39068ea0",
   "metadata": {},
   "outputs": [],
   "source": [
    "#os.environ[\"SERPAPI_API_KEY\"] = \"YOUR_API_KEY\"\n",
    "\n",
    "tools = load_tools([\"serpapi\", \"llm-math\"], llm=llm)"
   ]
  },
  {
   "cell_type": "code",
   "execution_count": 20,
   "id": "fc20e4e8",
   "metadata": {},
   "outputs": [],
   "source": [
    "agent = initialize_agent(tools, llm, agent=\"zero-shot-react-description\", verbose=True)"
   ]
  },
  {
   "cell_type": "code",
   "execution_count": 23,
   "id": "3fa299b9",
   "metadata": {},
   "outputs": [
    {
     "name": "stdout",
     "output_type": "stream",
     "text": [
      "\n",
      "\n",
      "\u001b[1m> Entering new AgentExecutor chain...\u001b[0m\n",
      "\u001b[32;1m\u001b[1;3m I need to know how to write HTML code\n",
      "Action: Search\n",
      "Action Input: \"How to write HTML code\"\u001b[0m\n",
      "Observation: \u001b[36;1m\u001b[1;3mStep 1: Open Notepad (PC) · Step 1: Open TextEdit (Mac) · Step 2: Write Some HTML · Step 3: Save the HTML Page · Step 4: View the HTML Page in Your Browser.\u001b[0m\n",
      "Thought:\u001b[32;1m\u001b[1;3m I now know how to write HTML code\n",
      "Action: Search\n",
      "Action Input: \"How to create a table in HTML\"\u001b[0m\n",
      "Observation: \u001b[36;1m\u001b[1;3mEach table cell is defined by a <td> and a </td> tag. td stands for table data. Everything between <td> and </td> are the content of ...\u001b[0m\n",
      "Thought:\u001b[32;1m\u001b[1;3m I now know how to create a table in HTML\n",
      "Final Answer: To create a table in HTML, you need to define each table cell with a <td> and a </td> tag. Everything between <td> and </td> are the content of the cell.\u001b[0m\n",
      "\n",
      "\u001b[1m> Finished chain.\u001b[0m\n"
     ]
    },
    {
     "data": {
      "text/plain": [
       "'To create a table in HTML, you need to define each table cell with a <td> and a </td> tag. Everything between <td> and </td> are the content of the cell.'"
      ]
     },
     "execution_count": 23,
     "metadata": {},
     "output_type": "execute_result"
    }
   ],
   "source": [
    "agent.run(\"Create a table in HTML\")"
   ]
  },
  {
   "cell_type": "markdown",
   "id": "8023b8fd",
   "metadata": {},
   "source": [
    "## Memory: Add state to chains and agents"
   ]
  },
  {
   "cell_type": "code",
   "execution_count": 24,
   "id": "2ed4dbcf",
   "metadata": {},
   "outputs": [],
   "source": [
    "from langchain import ConversationChain"
   ]
  },
  {
   "cell_type": "code",
   "execution_count": 30,
   "id": "7d466baf",
   "metadata": {},
   "outputs": [],
   "source": [
    "conversation = ConversationChain(llm=llm, verbose=True)"
   ]
  },
  {
   "cell_type": "code",
   "execution_count": 31,
   "id": "10ba9a09",
   "metadata": {},
   "outputs": [
    {
     "name": "stdout",
     "output_type": "stream",
     "text": [
      "\n",
      "\n",
      "\u001b[1m> Entering new ConversationChain chain...\u001b[0m\n",
      "Prompt after formatting:\n",
      "\u001b[32;1m\u001b[1;3mThe following is a friendly conversation between a human and an AI. The AI is talkative and provides lots of specific details from its context. If the AI does not know the answer to a question, it truthfully says it does not know.\n",
      "\n",
      "Current conversation:\n",
      "\n",
      "Human: Hello\n",
      "AI:\u001b[0m\n",
      "\n",
      "\u001b[1m> Finished chain.\u001b[0m\n"
     ]
    },
    {
     "data": {
      "text/plain": [
       "\" Hi there! It's nice to meet you. I'm an AI, and I'm here to help you with any questions you may have. What can I do for you?\""
      ]
     },
     "execution_count": 31,
     "metadata": {},
     "output_type": "execute_result"
    }
   ],
   "source": [
    "conversation.predict(input=\"Hello\")"
   ]
  },
  {
   "cell_type": "code",
   "execution_count": 32,
   "id": "bfbf5a35",
   "metadata": {},
   "outputs": [
    {
     "name": "stdout",
     "output_type": "stream",
     "text": [
      "\n",
      "\n",
      "\u001b[1m> Entering new ConversationChain chain...\u001b[0m\n",
      "Prompt after formatting:\n",
      "\u001b[32;1m\u001b[1;3mThe following is a friendly conversation between a human and an AI. The AI is talkative and provides lots of specific details from its context. If the AI does not know the answer to a question, it truthfully says it does not know.\n",
      "\n",
      "Current conversation:\n",
      "Human: Hello\n",
      "AI:  Hi there! It's nice to meet you. I'm an AI, and I'm here to help you with any questions you may have. What can I do for you?\n",
      "Human: I am doing well. Just having a conversation with an AI\n",
      "AI:\u001b[0m\n",
      "\n",
      "\u001b[1m> Finished chain.\u001b[0m\n"
     ]
    },
    {
     "data": {
      "text/plain": [
       "\" That's great! It's always nice to have a conversation with someone new. I'm always learning new things, so I'm sure I can provide some interesting insights. What would you like to talk about?\""
      ]
     },
     "execution_count": 32,
     "metadata": {},
     "output_type": "execute_result"
    }
   ],
   "source": [
    "conversation.predict(input=\"I am doing well. Just having a conversation with an AI\")"
   ]
  },
  {
   "cell_type": "code",
   "execution_count": 33,
   "id": "1081e118",
   "metadata": {},
   "outputs": [
    {
     "name": "stdout",
     "output_type": "stream",
     "text": [
      "\n",
      "\n",
      "\u001b[1m> Entering new ConversationChain chain...\u001b[0m\n",
      "Prompt after formatting:\n",
      "\u001b[32;1m\u001b[1;3mThe following is a friendly conversation between a human and an AI. The AI is talkative and provides lots of specific details from its context. If the AI does not know the answer to a question, it truthfully says it does not know.\n",
      "\n",
      "Current conversation:\n",
      "Human: Hello\n",
      "AI:  Hi there! It's nice to meet you. I'm an AI, and I'm here to help you with any questions you may have. What can I do for you?\n",
      "Human: I am doing well. Just having a conversation with an AI\n",
      "AI:  That's great! It's always nice to have a conversation with someone new. I'm always learning new things, so I'm sure I can provide some interesting insights. What would you like to talk about?\n",
      "Human: I really like Rock Music\n",
      "AI:\u001b[0m\n",
      "\n",
      "\u001b[1m> Finished chain.\u001b[0m\n"
     ]
    },
    {
     "data": {
      "text/plain": [
       "\" That's great to hear! Rock music is a great genre with lots of different styles and sounds. Do you have a favorite artist or album?\""
      ]
     },
     "execution_count": 33,
     "metadata": {},
     "output_type": "execute_result"
    }
   ],
   "source": [
    "conversation.predict(input=\"I really like Rock Music\")"
   ]
  },
  {
   "cell_type": "code",
   "execution_count": 34,
   "id": "861d3311",
   "metadata": {},
   "outputs": [
    {
     "name": "stdout",
     "output_type": "stream",
     "text": [
      "\n",
      "\n",
      "\u001b[1m> Entering new ConversationChain chain...\u001b[0m\n",
      "Prompt after formatting:\n",
      "\u001b[32;1m\u001b[1;3mThe following is a friendly conversation between a human and an AI. The AI is talkative and provides lots of specific details from its context. If the AI does not know the answer to a question, it truthfully says it does not know.\n",
      "\n",
      "Current conversation:\n",
      "Human: Hello\n",
      "AI:  Hi there! It's nice to meet you. I'm an AI, and I'm here to help you with any questions you may have. What can I do for you?\n",
      "Human: I am doing well. Just having a conversation with an AI\n",
      "AI:  That's great! It's always nice to have a conversation with someone new. I'm always learning new things, so I'm sure I can provide some interesting insights. What would you like to talk about?\n",
      "Human: I really like Rock Music\n",
      "AI:  That's great to hear! Rock music is a great genre with lots of different styles and sounds. Do you have a favorite artist or album?\n",
      "Human: Yeah Led Zepplin is my favourite rock band\n",
      "AI:\u001b[0m\n",
      "\n",
      "\u001b[1m> Finished chain.\u001b[0m\n"
     ]
    },
    {
     "data": {
      "text/plain": [
       "'  Wow, Led Zeppelin is a classic! They have some amazing songs, like \"Stairway to Heaven\" and \"Kashmir\". Do you have a favorite Led Zeppelin song?'"
      ]
     },
     "execution_count": 34,
     "metadata": {},
     "output_type": "execute_result"
    }
   ],
   "source": [
    "conversation.predict(input=\"Yeah Led Zepplin is my favourite rock band\")"
   ]
  },
  {
   "cell_type": "code",
   "execution_count": 37,
   "id": "ba9fe224",
   "metadata": {},
   "outputs": [
    {
     "name": "stdout",
     "output_type": "stream",
     "text": [
      "\n",
      "\n",
      "\u001b[1m> Entering new ConversationChain chain...\u001b[0m\n",
      "Prompt after formatting:\n",
      "\u001b[32;1m\u001b[1;3mThe following is a friendly conversation between a human and an AI. The AI is talkative and provides lots of specific details from its context. If the AI does not know the answer to a question, it truthfully says it does not know.\n",
      "\n",
      "Current conversation:\n",
      "Human: Hello\n",
      "AI:  Hi there! It's nice to meet you. I'm an AI, and I'm here to help you with any questions you may have. What can I do for you?\n",
      "Human: I am doing well. Just having a conversation with an AI\n",
      "AI:  That's great! It's always nice to have a conversation with someone new. I'm always learning new things, so I'm sure I can provide some interesting insights. What would you like to talk about?\n",
      "Human: I really like Rock Music\n",
      "AI:  That's great to hear! Rock music is a great genre with lots of different styles and sounds. Do you have a favorite artist or album?\n",
      "Human: Yeah Led Zepplin is my favourite rock band\n",
      "AI:   Wow, Led Zeppelin is a classic! They have some amazing songs, like \"Stairway to Heaven\" and \"Kashmir\". Do you have a favorite Led Zeppelin song?\n",
      "Human: Do you know my favourite rock band?\n",
      "AI:  I'm sorry, I don't know your favorite rock band.\n",
      "Human: Do you know my favourite genre?\n",
      "AI:   I'm sorry, I don't know your favorite genre.\n",
      "Human: What was the first thing I said to you?\n",
      "AI:\u001b[0m\n",
      "\n",
      "\u001b[1m> Finished chain.\u001b[0m\n"
     ]
    },
    {
     "data": {
      "text/plain": [
       "'  You said \"Hello\".'"
      ]
     },
     "execution_count": 37,
     "metadata": {},
     "output_type": "execute_result"
    }
   ],
   "source": [
    "conversation.predict(input=\"What was the first thing I said to you?\")"
   ]
  },
  {
   "cell_type": "code",
   "execution_count": 38,
   "id": "2bdf2e83",
   "metadata": {},
   "outputs": [
    {
     "name": "stdout",
     "output_type": "stream",
     "text": [
      "\n",
      "\n",
      "\u001b[1m> Entering new ConversationChain chain...\u001b[0m\n",
      "Prompt after formatting:\n",
      "\u001b[32;1m\u001b[1;3mThe following is a friendly conversation between a human and an AI. The AI is talkative and provides lots of specific details from its context. If the AI does not know the answer to a question, it truthfully says it does not know.\n",
      "\n",
      "Current conversation:\n",
      "Human: Hello\n",
      "AI:  Hi there! It's nice to meet you. I'm an AI, and I'm here to help you with any questions you may have. What can I do for you?\n",
      "Human: I am doing well. Just having a conversation with an AI\n",
      "AI:  That's great! It's always nice to have a conversation with someone new. I'm always learning new things, so I'm sure I can provide some interesting insights. What would you like to talk about?\n",
      "Human: I really like Rock Music\n",
      "AI:  That's great to hear! Rock music is a great genre with lots of different styles and sounds. Do you have a favorite artist or album?\n",
      "Human: Yeah Led Zepplin is my favourite rock band\n",
      "AI:   Wow, Led Zeppelin is a classic! They have some amazing songs, like \"Stairway to Heaven\" and \"Kashmir\". Do you have a favorite Led Zeppelin song?\n",
      "Human: Do you know my favourite rock band?\n",
      "AI:  I'm sorry, I don't know your favorite rock band.\n",
      "Human: Do you know my favourite genre?\n",
      "AI:   I'm sorry, I don't know your favorite genre.\n",
      "Human: What was the first thing I said to you?\n",
      "AI:   You said \"Hello\".\n",
      "Human: What are some alternative phrase for the first thing I said to you?\n",
      "AI:\u001b[0m\n",
      "\n",
      "\u001b[1m> Finished chain.\u001b[0m\n"
     ]
    },
    {
     "data": {
      "text/plain": [
       "'  Some alternative phrases for \"Hello\" include \"Hi there!\", \"Greetings!\", \"Hey!\", and \"What\\'s up?\".'"
      ]
     },
     "execution_count": 38,
     "metadata": {},
     "output_type": "execute_result"
    }
   ],
   "source": [
    "conversation.predict(input=\"What are some alternative phrase for the first thing I said to you?\")"
   ]
  },
  {
   "cell_type": "code",
   "execution_count": null,
   "id": "c5493d23",
   "metadata": {},
   "outputs": [],
   "source": []
  }
 ],
 "metadata": {
  "kernelspec": {
   "display_name": "Python 3 (ipykernel)",
   "language": "python",
   "name": "python3"
  },
  "language_info": {
   "codemirror_mode": {
    "name": "ipython",
    "version": 3
   },
   "file_extension": ".py",
   "mimetype": "text/x-python",
   "name": "python",
   "nbconvert_exporter": "python",
   "pygments_lexer": "ipython3",
   "version": "3.9.7"
  }
 },
 "nbformat": 4,
 "nbformat_minor": 5
}
