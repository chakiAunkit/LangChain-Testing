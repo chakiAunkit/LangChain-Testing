{
 "cells": [
  {
   "cell_type": "code",
   "execution_count": 1,
   "id": "bd28a363",
   "metadata": {},
   "outputs": [],
   "source": [
    "from langchain.agents import load_tools, initialize_agent\n",
    "from langchain.llms import OpenAI"
   ]
  },
  {
   "cell_type": "markdown",
   "id": "856005a2",
   "metadata": {},
   "source": [
    "### SerpAPI: A Search engine"
   ]
  },
  {
   "cell_type": "code",
   "execution_count": 3,
   "id": "5963d886",
   "metadata": {},
   "outputs": [],
   "source": [
    "import os\n",
    "oops\n",
    "\n",
    "#os.environ[\"OPENAI_API_KEY\"] = \"YOUR_API_KEY\"\n",
    "#os.environ[\"SERPAPI_API_KEY\"] = \"YOUR_API_KEY\""
   ]
  },
  {
   "cell_type": "code",
   "execution_count": 4,
   "id": "cbbb6e34",
   "metadata": {},
   "outputs": [],
   "source": [
    "llm = OpenAI(temperature=0)"
   ]
  },
  {
   "cell_type": "code",
   "execution_count": 5,
   "id": "08a45026",
   "metadata": {},
   "outputs": [],
   "source": [
    "tool_names = [\"serpapi\"]\n",
    "tools = load_tools(tool_names)"
   ]
  },
  {
   "cell_type": "code",
   "execution_count": 6,
   "id": "8ab33d9e",
   "metadata": {},
   "outputs": [],
   "source": [
    "agent = initialize_agent(tools, llm, agent=\"zero-shot-react-description\", verbose=True)"
   ]
  },
  {
   "cell_type": "code",
   "execution_count": 7,
   "id": "9452e1e5",
   "metadata": {},
   "outputs": [
    {
     "name": "stdout",
     "output_type": "stream",
     "text": [
      "\n",
      "\n",
      "\u001b[1m> Entering new AgentExecutor chain...\u001b[0m\n",
      "\u001b[32;1m\u001b[1;3m I should research this term\n",
      "Action: Search\n",
      "Action Input: \"langchain\"\u001b[0m\n",
      "Observation: \u001b[36;1m\u001b[1;3mLangChain is a software development framework designed to simplify the creation of applications using large language models.\u001b[0m\n",
      "Thought:\u001b[32;1m\u001b[1;3m I now know the final answer\n",
      "Final Answer: LangChain is a software development framework designed to simplify the creation of applications using large language models.\u001b[0m\n",
      "\n",
      "\u001b[1m> Finished chain.\u001b[0m\n"
     ]
    },
    {
     "data": {
      "text/plain": [
       "'LangChain is a software development framework designed to simplify the creation of applications using large language models.'"
      ]
     },
     "execution_count": 7,
     "metadata": {},
     "output_type": "execute_result"
    }
   ],
   "source": [
    "agent.run(\"what is langchain?\")"
   ]
  },
  {
   "cell_type": "code",
   "execution_count": 8,
   "id": "e0c6d8d2",
   "metadata": {},
   "outputs": [
    {
     "name": "stdout",
     "output_type": "stream",
     "text": [
      "\n",
      "\n",
      "\u001b[1m> Entering new AgentExecutor chain...\u001b[0m\n",
      "\u001b[32;1m\u001b[1;3m I need to find out who the CEO of pipe is\n",
      "Action: Search\n",
      "Action Input: \"pipe CEO\"\u001b[0m\n",
      "Observation: \u001b[36;1m\u001b[1;3mLuke Voiles\u001b[0m\n",
      "Thought:\u001b[32;1m\u001b[1;3m I now know the final answer\n",
      "Final Answer: Luke Voiles is the CEO of pipe.\u001b[0m\n",
      "\n",
      "\u001b[1m> Finished chain.\u001b[0m\n"
     ]
    },
    {
     "data": {
      "text/plain": [
       "'Luke Voiles is the CEO of pipe.'"
      ]
     },
     "execution_count": 8,
     "metadata": {},
     "output_type": "execute_result"
    }
   ],
   "source": [
    "agent.run(\"who is the CEO of pipe?\")"
   ]
  },
  {
   "cell_type": "markdown",
   "id": "7c4e5be7",
   "metadata": {},
   "source": [
    "### Wolfram Alpha API"
   ]
  },
  {
   "cell_type": "code",
   "execution_count": 13,
   "id": "a24b337e",
   "metadata": {},
   "outputs": [
    {
     "name": "stdout",
     "output_type": "stream",
     "text": [
      "Collecting wolframalpha\n",
      "  Downloading wolframalpha-5.0.0-py3-none-any.whl (7.5 kB)\n",
      "Collecting jaraco.context\n",
      "  Downloading jaraco.context-4.3.0-py3-none-any.whl (5.3 kB)\n",
      "Collecting xmltodict\n",
      "  Downloading xmltodict-0.13.0-py2.py3-none-any.whl (10.0 kB)\n",
      "Collecting more-itertools\n",
      "  Downloading more_itertools-9.1.0-py3-none-any.whl (54 kB)\n",
      "Installing collected packages: xmltodict, more-itertools, jaraco.context, wolframalpha\n",
      "Successfully installed jaraco.context-4.3.0 more-itertools-9.1.0 wolframalpha-5.0.0 xmltodict-0.13.0\n",
      "Note: you may need to restart the kernel to use updated packages.\n"
     ]
    }
   ],
   "source": [
    "#pip install wolframalpha"
   ]
  },
  {
   "cell_type": "code",
   "execution_count": 14,
   "id": "36134c0b",
   "metadata": {},
   "outputs": [],
   "source": [
    "os.environ[\"WOLFRAM_ALPHA_APPID\"] = \"V4U22Q-6UPA6TAEQ8\""
   ]
  },
  {
   "cell_type": "code",
   "execution_count": 15,
   "id": "c7859b16",
   "metadata": {},
   "outputs": [],
   "source": [
    "tool_names = [\"wolfram-alpha\"]\n",
    "tools = load_tools(tool_names)"
   ]
  },
  {
   "cell_type": "code",
   "execution_count": 16,
   "id": "ec965f98",
   "metadata": {},
   "outputs": [],
   "source": [
    "agent = initialize_agent(tools, llm, agent=\"zero-shot-react-description\", verbose=True)"
   ]
  },
  {
   "cell_type": "code",
   "execution_count": 17,
   "id": "1f2bc5e0",
   "metadata": {},
   "outputs": [
    {
     "name": "stdout",
     "output_type": "stream",
     "text": [
      "\n",
      "\n",
      "\u001b[1m> Entering new AgentExecutor chain...\u001b[0m\n"
     ]
    },
    {
     "name": "stderr",
     "output_type": "stream",
     "text": [
      "Retrying langchain.llms.openai.completion_with_retry.<locals>._completion_with_retry in 4.0 seconds as it raised APIConnectionError: Error communicating with OpenAI: ('Connection aborted.', ConnectionResetError(10054, 'An existing connection was forcibly closed by the remote host', None, 10054, None)).\n"
     ]
    },
    {
     "name": "stdout",
     "output_type": "stream",
     "text": [
      "\u001b[32;1m\u001b[1;3m I should research the anatomy of the cranium.\n",
      "Action: Wolfram Alpha\n",
      "Action Input: What is the anatomy of the cranium\u001b[0m\n",
      "Observation: \u001b[36;1m\u001b[1;3mAssumption: skull (human) \n",
      "Answer: systemic groups | skeletal system\n",
      "anatomical groups | subdivision of axial skeletal system | subdivision of skeletal system | subdivision of axial skeleton | skeletal system of head\n",
      "anatomical regions | axial skeletal system\n",
      "structural groups | head | axial skeleton | skeleton (in vivo)\n",
      "regional parts | orbit | calvaria | viscerocranium | neurocranium\n",
      "members | set of auditory ossicles | interalveolar septum of mandible | interalveolar septum of maxilla | set of temporal bones | palatine spine | ... (total: 9)\u001b[0m\n",
      "Thought:\u001b[32;1m\u001b[1;3m The cranium is part of the skeletal system and is composed of the orbit, calvaria, viscerocranium, and neurocranium.\n",
      "Final Answer: The cranium is part of the skeletal system and is composed of the orbit, calvaria, viscerocranium, and neurocranium. It protects the brain and supports the facial structures.\u001b[0m\n",
      "\n",
      "\u001b[1m> Finished chain.\u001b[0m\n"
     ]
    },
    {
     "data": {
      "text/plain": [
       "'The cranium is part of the skeletal system and is composed of the orbit, calvaria, viscerocranium, and neurocranium. It protects the brain and supports the facial structures.'"
      ]
     },
     "execution_count": 17,
     "metadata": {},
     "output_type": "execute_result"
    }
   ],
   "source": [
    "agent.run(\"What does the cranium do?\")"
   ]
  },
  {
   "cell_type": "code",
   "execution_count": null,
   "id": "743b448f",
   "metadata": {},
   "outputs": [],
   "source": []
  }
 ],
 "metadata": {
  "kernelspec": {
   "display_name": "Python 3",
   "language": "python",
   "name": "python3"
  },
  "language_info": {
   "codemirror_mode": {
    "name": "ipython",
    "version": 3
   },
   "file_extension": ".py",
   "mimetype": "text/x-python",
   "name": "python",
   "nbconvert_exporter": "python",
   "pygments_lexer": "ipython3",
   "version": "3.8.8"
  }
 },
 "nbformat": 4,
 "nbformat_minor": 5
}
